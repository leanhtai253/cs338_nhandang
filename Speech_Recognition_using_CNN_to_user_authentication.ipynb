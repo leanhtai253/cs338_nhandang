{
  "cells": [
    {
      "cell_type": "markdown",
      "source": [
        "# Connect drive"
      ],
      "metadata": {
        "id": "LBfuTH5WRdqA"
      }
    },
    {
      "cell_type": "code",
      "execution_count": 1,
      "metadata": {
        "colab": {
          "base_uri": "https://localhost:8080/"
        },
        "id": "x9QuteMFAoS0",
        "outputId": "a5025eb5-bc60-4094-ccce-a670974fc9f8"
      },
      "outputs": [
        {
          "output_type": "stream",
          "name": "stdout",
          "text": [
            "Mounted at /content/drive\n"
          ]
        }
      ],
      "source": [
        "from google.colab import drive\n",
        "drive.mount('/content/drive')"
      ]
    },
    {
      "cell_type": "markdown",
      "source": [
        "# Install and load libraries"
      ],
      "metadata": {
        "id": "Ag5uvLoCRhsn"
      }
    },
    {
      "cell_type": "code",
      "execution_count": 4,
      "metadata": {
        "colab": {
          "base_uri": "https://localhost:8080/"
        },
        "id": "WbWUXaVsJqYB",
        "outputId": "89c74e1b-157f-48c3-a8a9-b509ef6f06ff"
      },
      "outputs": [
        {
          "output_type": "stream",
          "name": "stdout",
          "text": [
            "Requirement already satisfied: librosa in /usr/local/lib/python3.10/dist-packages (0.10.0.post2)\n",
            "Requirement already satisfied: audioread>=2.1.9 in /usr/local/lib/python3.10/dist-packages (from librosa) (3.0.0)\n",
            "Requirement already satisfied: numpy!=1.22.0,!=1.22.1,!=1.22.2,>=1.20.3 in /usr/local/lib/python3.10/dist-packages (from librosa) (1.22.4)\n",
            "Requirement already satisfied: scipy>=1.2.0 in /usr/local/lib/python3.10/dist-packages (from librosa) (1.10.1)\n",
            "Requirement already satisfied: scikit-learn>=0.20.0 in /usr/local/lib/python3.10/dist-packages (from librosa) (1.2.2)\n",
            "Requirement already satisfied: joblib>=0.14 in /usr/local/lib/python3.10/dist-packages (from librosa) (1.3.1)\n",
            "Requirement already satisfied: decorator>=4.3.0 in /usr/local/lib/python3.10/dist-packages (from librosa) (4.4.2)\n",
            "Requirement already satisfied: numba>=0.51.0 in /usr/local/lib/python3.10/dist-packages (from librosa) (0.56.4)\n",
            "Requirement already satisfied: soundfile>=0.12.1 in /usr/local/lib/python3.10/dist-packages (from librosa) (0.12.1)\n",
            "Requirement already satisfied: pooch<1.7,>=1.0 in /usr/local/lib/python3.10/dist-packages (from librosa) (1.6.0)\n",
            "Requirement already satisfied: soxr>=0.3.2 in /usr/local/lib/python3.10/dist-packages (from librosa) (0.3.5)\n",
            "Requirement already satisfied: typing-extensions>=4.1.1 in /usr/local/lib/python3.10/dist-packages (from librosa) (4.7.1)\n",
            "Requirement already satisfied: lazy-loader>=0.1 in /usr/local/lib/python3.10/dist-packages (from librosa) (0.3)\n",
            "Requirement already satisfied: msgpack>=1.0 in /usr/local/lib/python3.10/dist-packages (from librosa) (1.0.5)\n",
            "Requirement already satisfied: llvmlite<0.40,>=0.39.0dev0 in /usr/local/lib/python3.10/dist-packages (from numba>=0.51.0->librosa) (0.39.1)\n",
            "Requirement already satisfied: setuptools in /usr/local/lib/python3.10/dist-packages (from numba>=0.51.0->librosa) (67.7.2)\n",
            "Requirement already satisfied: appdirs>=1.3.0 in /usr/local/lib/python3.10/dist-packages (from pooch<1.7,>=1.0->librosa) (1.4.4)\n",
            "Requirement already satisfied: packaging>=20.0 in /usr/local/lib/python3.10/dist-packages (from pooch<1.7,>=1.0->librosa) (23.1)\n",
            "Requirement already satisfied: requests>=2.19.0 in /usr/local/lib/python3.10/dist-packages (from pooch<1.7,>=1.0->librosa) (2.27.1)\n",
            "Requirement already satisfied: threadpoolctl>=2.0.0 in /usr/local/lib/python3.10/dist-packages (from scikit-learn>=0.20.0->librosa) (3.1.0)\n",
            "Requirement already satisfied: cffi>=1.0 in /usr/local/lib/python3.10/dist-packages (from soundfile>=0.12.1->librosa) (1.15.1)\n",
            "Requirement already satisfied: pycparser in /usr/local/lib/python3.10/dist-packages (from cffi>=1.0->soundfile>=0.12.1->librosa) (2.21)\n",
            "Requirement already satisfied: urllib3<1.27,>=1.21.1 in /usr/local/lib/python3.10/dist-packages (from requests>=2.19.0->pooch<1.7,>=1.0->librosa) (1.26.16)\n",
            "Requirement already satisfied: certifi>=2017.4.17 in /usr/local/lib/python3.10/dist-packages (from requests>=2.19.0->pooch<1.7,>=1.0->librosa) (2023.5.7)\n",
            "Requirement already satisfied: charset-normalizer~=2.0.0 in /usr/local/lib/python3.10/dist-packages (from requests>=2.19.0->pooch<1.7,>=1.0->librosa) (2.0.12)\n",
            "Requirement already satisfied: idna<4,>=2.5 in /usr/local/lib/python3.10/dist-packages (from requests>=2.19.0->pooch<1.7,>=1.0->librosa) (3.4)\n"
          ]
        }
      ],
      "source": [
        "!pip install librosa"
      ]
    },
    {
      "cell_type": "code",
      "execution_count": 5,
      "metadata": {
        "id": "fqFxpercJqYD"
      },
      "outputs": [],
      "source": [
        "from glob import glob\n",
        "import shutil\n",
        "import os\n",
        "import numpy as np # linear algebra\n",
        "import pandas as pd # data processing, CSV file I/O (e.g. pd.read_csv)\n",
        "\n",
        "import matplotlib.pyplot as plt\n",
        "from IPython.display import Audio, display\n",
        "import librosa\n",
        "\n",
        "import tensorflow as tf\n",
        "from tensorflow import keras\n",
        "from sklearn import preprocessing"
      ]
    },
    {
      "cell_type": "markdown",
      "source": [
        "# Download LibriSpeech dataset"
      ],
      "metadata": {
        "id": "c2s4IB0OR2TN"
      }
    },
    {
      "cell_type": "code",
      "source": [
        "!wget https://www.openslr.org/resources/12/train-clean-100.tar.gz\n",
        "!wget https://www.openslr.org/resources/12/dev-clean.tar.gz\n",
        "!wget https://www.openslr.org/resources/12/test-clean.tar.gz"
      ],
      "metadata": {
        "execution": {
          "iopub.status.busy": "2023-07-09T19:26:29.388081Z",
          "iopub.execute_input": "2023-07-09T19:26:29.388743Z",
          "iopub.status.idle": "2023-07-09T19:27:17.252531Z",
          "shell.execute_reply.started": "2023-07-09T19:26:29.388710Z",
          "shell.execute_reply": "2023-07-09T19:27:17.250202Z"
        },
        "trusted": true,
        "id": "QHOZqtxHn8Di",
        "outputId": "5992ad16-15c8-4eb8-a2d3-d334a25af97a"
      },
      "execution_count": null,
      "outputs": [
        {
          "name": "stdout",
          "text": "--2023-07-09 19:26:30--  https://www.openslr.org/resources/12/train-clean-100.tar.gz\nResolving www.openslr.org (www.openslr.org)... 46.101.158.64\nConnecting to www.openslr.org (www.openslr.org)|46.101.158.64|:443... connected.\nHTTP request sent, awaiting response... 302 Found\nLocation: http://us.openslr.org/resources/12/train-clean-100.tar.gz [following]\n--2023-07-09 19:26:30--  http://us.openslr.org/resources/12/train-clean-100.tar.gz\nResolving us.openslr.org (us.openslr.org)... 46.101.158.64\nConnecting to us.openslr.org (us.openslr.org)|46.101.158.64|:80... connected.\nHTTP request sent, awaiting response... 200 OK\nLength: 6387309499 (5.9G) [application/x-gzip]\nSaving to: ‘train-clean-100.tar.gz’\n\ntrain-clean-100.tar 100%[===================>]   5.95G   125MB/s    in 38s     \n\n2023-07-09 19:27:08 (160 MB/s) - ‘train-clean-100.tar.gz’ saved [6387309499/6387309499]\n\n--2023-07-09 19:27:09--  https://www.openslr.org/resources/12/dev-clean.tar.gz\nResolving www.openslr.org (www.openslr.org)... 46.101.158.64\nConnecting to www.openslr.org (www.openslr.org)|46.101.158.64|:443... connected.\nHTTP request sent, awaiting response... 302 Found\nLocation: http://us.openslr.org/resources/12/dev-clean.tar.gz [following]\n--2023-07-09 19:27:09--  http://us.openslr.org/resources/12/dev-clean.tar.gz\nResolving us.openslr.org (us.openslr.org)... 46.101.158.64\nConnecting to us.openslr.org (us.openslr.org)|46.101.158.64|:80... connected.\nHTTP request sent, awaiting response... 200 OK\nLength: 337926286 (322M) [application/x-gzip]\nSaving to: ‘dev-clean.tar.gz’\n\ndev-clean.tar.gz    100%[===================>] 322.27M  87.5MB/s    in 3.6s    \n\n2023-07-09 19:27:13 (88.5 MB/s) - ‘dev-clean.tar.gz’ saved [337926286/337926286]\n\n--2023-07-09 19:27:14--  https://www.openslr.org/resources/12/test-clean.tar.gz\nResolving www.openslr.org (www.openslr.org)... 46.101.158.64\nConnecting to www.openslr.org (www.openslr.org)|46.101.158.64|:443... connected.\nHTTP request sent, awaiting response... 302 Found\nLocation: http://us.openslr.org/resources/12/test-clean.tar.gz [following]\n--2023-07-09 19:27:14--  http://us.openslr.org/resources/12/test-clean.tar.gz\nResolving us.openslr.org (us.openslr.org)... 46.101.158.64\nConnecting to us.openslr.org (us.openslr.org)|46.101.158.64|:80... connected.\nHTTP request sent, awaiting response... 200 OK\nLength: 346663984 (331M) [application/x-gzip]\nSaving to: ‘test-clean.tar.gz’\n\ntest-clean.tar.gz   100%[===================>] 330.60M   155MB/s    in 2.1s    \n\n2023-07-09 19:27:17 (155 MB/s) - ‘test-clean.tar.gz’ saved [346663984/346663984]\n\n",
          "output_type": "stream"
        }
      ]
    },
    {
      "cell_type": "code",
      "execution_count": null,
      "metadata": {
        "id": "PgE_KZWZJqYG"
      },
      "outputs": [],
      "source": [
        "!tar -xzf \"/content/train-clean-100.tar.gz\"\n",
        "!tar -xzf \"/content/dev-clean.tar.gz\"\n",
        "!tar -xzf \"/content/test-clean.tar.gz\""
      ]
    },
    {
      "cell_type": "code",
      "execution_count": null,
      "metadata": {
        "id": "ZB7QTue5JqYH"
      },
      "outputs": [],
      "source": [
        "!rm '/content/train-clean-100.tar.gz'\n",
        "!rm '/content/dev-clean.tar.gz'\n",
        "!rm '/content/test-clean.tar.gz'"
      ]
    },
    {
      "cell_type": "code",
      "execution_count": null,
      "metadata": {
        "id": "gJ2tmFwUJqYJ"
      },
      "outputs": [],
      "source": [
        "TRAIN_PATH = '/content/drive/MyDrive/dataset/LibriSpeech/train-clean-100'\n",
        "DEV_PATH = '/content/drive/MyDrive/dataset/LibriSpeech/dev-clean'\n",
        "TEST_PATH = '/content/drive/MyDrive/dataset/LibriSpeech/test-clean'\n",
        "ALL_PATH = [TRAIN_PATH, DEV_PATH, TEST_PATH]"
      ]
    },
    {
      "cell_type": "markdown",
      "source": [
        "**Loading path_file in data**"
      ],
      "metadata": {
        "id": "dUObCAoKShPE"
      }
    },
    {
      "cell_type": "code",
      "execution_count": null,
      "metadata": {
        "id": "BNbqtshWJqYK"
      },
      "outputs": [],
      "source": [
        "#Finding all files in a directory.\n",
        "list_paths=[]\n",
        "for path in ALL_PATH:\n",
        "    for r, d, f in os.walk(path):\n",
        "        for file in f:\n",
        "            if '.flac' in file: list_paths.append(os.path.join(r, file))"
      ]
    },
    {
      "cell_type": "markdown",
      "source": [
        "# Define function use to load data, label and feature extraction."
      ],
      "metadata": {
        "id": "8T1RYa-8SqOL"
      }
    },
    {
      "cell_type": "code",
      "execution_count": null,
      "metadata": {
        "id": "6hRw1DF3JqYL"
      },
      "outputs": [],
      "source": [
        "def wav2mfcc(file_path, max_pad_len=196):\n",
        "    ''' convert wav file to mfcc matrix with truncation and padding '''\n",
        "    wave, sample_rate = librosa.load(file_path, mono=True, sr=None)\n",
        "    mfcc = librosa.feature.mfcc(y=wave, sr=sample_rate)\n",
        "    mfcc = mfcc[:, :max_pad_len]\n",
        "    pad_width = max_pad_len - mfcc.shape[1]\n",
        "    mfcc = np.pad(mfcc, pad_width=((0, 0), (0, pad_width)), mode='constant')\n",
        "    return mfcc\n",
        "\n",
        "def extract_mfcc(file_path):\n",
        "    ''' returns 3D tensor of the mfcc coding from the wav file '''\n",
        "    file_name = bytes.decode(file_path.numpy())\n",
        "    mfcc = tf.convert_to_tensor(wav2mfcc(file_name))\n",
        "    mfcc = tf.expand_dims(mfcc, 2)\n",
        "    return mfcc\n",
        "\n",
        "def create_audio_ds(list_ds):\n",
        "    ''' creates audio dataset containing audio tensors from file list dataset '''\n",
        "    batch = []\n",
        "    for f in list_ds:\n",
        "        audio = extract_mfcc(f)\n",
        "        batch.append(audio)\n",
        "    return tf.data.Dataset.from_tensor_slices(batch)"
      ]
    },
    {
      "cell_type": "code",
      "execution_count": null,
      "metadata": {
        "id": "0ti4kMSCJqYN"
      },
      "outputs": [],
      "source": [
        "# def is_valid(file_path):\n",
        "#     ''' returns True if a regular files. False for hidden files.\n",
        "#     Also, True is a known user with a name, False if anon.\n",
        "#     '''\n",
        "#     file_name = tf.strings.split(file_path, '/')[-1]\n",
        "#     if tf.strings.substr(file_name, 0, 1) == tf.constant(b'.'):\n",
        "#         return False\n",
        "#     sc = tf.strings.split(file_path, '/')[-3]\n",
        "#     speaker = tf.strings.split(sc, '-')[0]\n",
        "#     return not tf.strings.substr(speaker, 0, 9) == tf.constant(b'anonymous')\n",
        "\n",
        "def extract_speaker(file_path):\n",
        "    ''' extract speaker name from the file path '''\n",
        "    sc = tf.strings.split(file_path, '/')[-1]\n",
        "    return tf.strings.split(sc, '-')[0]\n",
        "\n",
        "def encoding_speaker(speaker_ds):\n",
        "    '''\n",
        "    '''\n",
        "    # create one-hot vector dataset from speakers\n",
        "    speaker_encoder = preprocessing.LabelEncoder()\n",
        "    speaker_idx = speaker_encoder.fit_transform([bytes.decode(s.numpy()) for s in speaker_ds])\n",
        "    encoded_speaker_ds = tf.data.Dataset.from_tensor_slices(speaker_idx)\n",
        "    unique_speakers = len(speaker_encoder.classes_)\n",
        "    return encoded_speaker_ds, speaker_encoder, unique_speakers\n",
        "\n",
        "def load_data(list_path):\n",
        "    '''\n",
        "    Return dataset which containing audio tensors and label\n",
        "    '''\n",
        "    list_ds = tf.data.Dataset.list_files(list_path,shuffle=False)\n",
        "    # list_ds = list_ds.filter(is_valid)\n",
        "    # for f in list_ds.take(3):\n",
        "    #    print(f.numpy())\n",
        "\n",
        "    # each folder under root contains audio files for a speaker.\n",
        "    # the folder name is the name of the speaker plus date and three digit code separated by dash.\n",
        "    # let's print few sample speaker names.\n",
        "    speaker_ds = list_ds.map(extract_speaker)\n",
        "    # for speaker in speaker_ds.take(3):\n",
        "    #    print(speaker)\n",
        "    return list_ds, speaker_ds\n",
        "\n",
        "def train_dev_test_split(labeled_ds, batch_size=32):\n",
        "    '''\n",
        "    '''\n",
        "    # create train, validation and test datasets.\n",
        "    data_size = sum([1 for _ in labeled_ds])\n",
        "    train_size = int(data_size * 0.7)\n",
        "    val_size = int(data_size * 0.2)\n",
        "    test_size = data_size - train_size - val_size\n",
        "    print('all samples: {}'.format(data_size))\n",
        "    print('training samples: {}'.format(train_size))\n",
        "    print('validation samples: {}'.format(val_size))\n",
        "    print('test samples: {}'.format(test_size))\n",
        "\n",
        "    # create batched datasets\n",
        "    labeled_ds = labeled_ds.shuffle(data_size, seed=42)\n",
        "    train_ds = labeled_ds.take(train_size).shuffle(1000).batch(batch_size).prefetch(1)\n",
        "    val_ds = labeled_ds.skip(train_size).take(val_size).batch(batch_size).prefetch(1)\n",
        "    test_ds = labeled_ds.skip(train_size + val_size).take(test_size).batch(batch_size).prefetch(1)\n",
        "    return train_ds, val_ds, test_ds"
      ]
    },
    {
      "cell_type": "markdown",
      "metadata": {
        "id": "w8Xq8Gc5vr8m"
      },
      "source": [
        "# Loading and extract features"
      ]
    },
    {
      "cell_type": "code",
      "execution_count": null,
      "metadata": {
        "id": "crQhm-ybJqYQ"
      },
      "outputs": [],
      "source": [
        "list_ds, speaker_ds = load_data(list_paths)\n",
        "encoded_speaker_ds, speaker_encoder, unique_speakers = encoding_speaker(speaker_ds)"
      ]
    },
    {
      "cell_type": "code",
      "source": [
        "from datetime import datetime\n",
        "# Code to start the timer to see how long it takes to extract the features\n",
        "startTime = datetime.now()"
      ],
      "metadata": {
        "execution": {
          "iopub.status.busy": "2023-07-09T19:28:57.487815Z",
          "iopub.execute_input": "2023-07-09T19:28:57.488107Z",
          "iopub.status.idle": "2023-07-09T19:28:57.492780Z",
          "shell.execute_reply.started": "2023-07-09T19:28:57.488082Z",
          "shell.execute_reply": "2023-07-09T19:28:57.492008Z"
        },
        "trusted": true,
        "id": "ESSBWjwSn8Dt"
      },
      "execution_count": null,
      "outputs": []
    },
    {
      "cell_type": "code",
      "source": [
        "# Audio (input) tensor is 3D tensor.\n",
        "# 20x196 is MFCC encoding. Converting it to 3D for use in CNN layers.\n",
        "# %time\n",
        "audio_ds = create_audio_ds(list_ds)\n",
        "# for a in audio_ds.take(1):\n",
        "#     print(a.numpy().shape)"
      ],
      "metadata": {
        "execution": {
          "iopub.status.busy": "2023-07-09T19:28:57.494147Z",
          "iopub.execute_input": "2023-07-09T19:28:57.494446Z",
          "iopub.status.idle": "2023-07-09T19:56:24.665034Z",
          "shell.execute_reply.started": "2023-07-09T19:28:57.494419Z",
          "shell.execute_reply": "2023-07-09T19:56:24.663853Z"
        },
        "trusted": true,
        "id": "wSoYI7f3n8Dt"
      },
      "execution_count": null,
      "outputs": []
    },
    {
      "cell_type": "code",
      "source": [
        "# Code to see how long it took\n",
        "print(datetime.now() - startTime)"
      ],
      "metadata": {
        "execution": {
          "iopub.status.busy": "2023-07-09T19:56:24.672307Z",
          "iopub.execute_input": "2023-07-09T19:56:24.673260Z",
          "iopub.status.idle": "2023-07-09T19:56:24.678967Z",
          "shell.execute_reply.started": "2023-07-09T19:56:24.673221Z",
          "shell.execute_reply": "2023-07-09T19:56:24.677664Z"
        },
        "trusted": true,
        "id": "HCuyH02Cn8Du",
        "outputId": "40d91213-bc92-4c1c-cce7-b54f81c6ca61"
      },
      "execution_count": null,
      "outputs": [
        {
          "name": "stdout",
          "text": "0:27:27.185186\n",
          "output_type": "stream"
        }
      ]
    },
    {
      "cell_type": "markdown",
      "source": [
        "**Saving the data, which are converted to 3D matrix and extracted features, we will use them in the future.**"
      ],
      "metadata": {
        "id": "bsKzCFwST9_R"
      }
    },
    {
      "cell_type": "code",
      "execution_count": null,
      "metadata": {
        "id": "Y9iv1Fu3JqYS"
      },
      "outputs": [],
      "source": [
        "audio_ds_path = '/content/drive/MyDrive/audio_ds'\n",
        "tf.data.experimental.save(audio_ds,audio_ds_path)\n",
        "# new_dataset = tf.data.experimental.load(audio_ds_path)"
      ]
    },
    {
      "cell_type": "markdown",
      "source": [
        "**Combine each 3D matrix data with it's label.**"
      ],
      "metadata": {
        "id": "mHkJGoA4U74I"
      }
    },
    {
      "cell_type": "code",
      "execution_count": null,
      "metadata": {
        "id": "H1zCOeoKJqYS"
      },
      "outputs": [],
      "source": [
        "# Finally, zip the input and labels to a single dataset.\n",
        "complete_labeled_ds = tf.data.Dataset.zip((audio_ds, encoded_speaker_ds))"
      ]
    },
    {
      "cell_type": "code",
      "execution_count": null,
      "metadata": {
        "id": "zKE05nPnJqYT"
      },
      "outputs": [],
      "source": [
        "# complete_labeled_ds_path = 'complete_labeled_ds'\n",
        "# tf.data.experimental.save(complete_labeled_ds,complete_labeled_ds_path)"
      ]
    },
    {
      "cell_type": "markdown",
      "source": [
        "**Split dataset to training, validation and test set.**"
      ],
      "metadata": {
        "id": "1k_ax3oZVRV1"
      }
    },
    {
      "cell_type": "code",
      "source": [
        "BATCH_SIZE = 32\n",
        "train_ds, val_ds, test_ds = train_dev_test_split(complete_labeled_ds, BATCH_SIZE)\n",
        "\n",
        "input_shape = None\n",
        "for audio, speaker in complete_labeled_ds.take(1):\n",
        "    input_shape = audio.shape\n",
        "    print('input_shape', audio.shape)\n",
        "    print('output_shape', speaker.shape)"
      ],
      "metadata": {
        "execution": {
          "iopub.status.busy": "2023-07-09T20:06:04.250268Z",
          "iopub.execute_input": "2023-07-09T20:06:04.251350Z",
          "iopub.status.idle": "2023-07-09T20:06:11.658241Z",
          "shell.execute_reply.started": "2023-07-09T20:06:04.251308Z",
          "shell.execute_reply": "2023-07-09T20:06:11.657143Z"
        },
        "trusted": true,
        "id": "NgqaFl2Nn8Dw",
        "outputId": "cf3f6fc8-a888-44b5-9a16-8d5730db4fb2"
      },
      "execution_count": null,
      "outputs": [
        {
          "name": "stdout",
          "text": "all samples: 33862\ntraining samples: 23703\nvalidation samples: 6772\ntest samples: 3387\ninput_shape (20, 196, 1)\noutput_shape ()\n",
          "output_type": "stream"
        }
      ]
    },
    {
      "cell_type": "markdown",
      "metadata": {
        "id": "5bzp5x1_7FXF"
      },
      "source": [
        "# Model"
      ]
    },
    {
      "cell_type": "code",
      "execution_count": null,
      "metadata": {
        "id": "4wAOuQioJqYU"
      },
      "outputs": [],
      "source": [
        "def create_model(input_shape, unique_speakers):\n",
        "    dropout_rate = .25\n",
        "    regularazation = 0.001\n",
        "    audio_input = keras.layers.Input(shape=input_shape)\n",
        "    conv1 = keras.layers.Conv2D(16, kernel_size=(3, 3), padding='same',\n",
        "                               activation='relu', input_shape=input_shape)(audio_input)\n",
        "    maxpool1 = keras.layers.MaxPooling2D(pool_size=(2, 2), strides=2)(conv1)\n",
        "    batch1 = keras.layers.BatchNormalization()(maxpool1)\n",
        "    conv2 = keras.layers.Conv2D(32, kernel_size=(3, 3), padding='same',\n",
        "                               activation='relu', input_shape=input_shape)(batch1)\n",
        "    maxpool2 = keras.layers.MaxPooling2D(pool_size=(2, 2), strides=2)(conv2)\n",
        "    batch2 = keras.layers.BatchNormalization()(maxpool2)\n",
        "    conv3 = keras.layers.Conv2D(64, kernel_size=(3, 3), padding='same',\n",
        "                activation='relu')(batch2)\n",
        "    maxpool3 = keras.layers.MaxPooling2D(pool_size=(2, 2), strides=2)(conv3)\n",
        "    batch3 = keras.layers.BatchNormalization()(maxpool3)\n",
        "    flt = keras.layers.Flatten()(batch3)\n",
        "    drp1 = keras.layers.Dropout(dropout_rate)(flt)\n",
        "    dense1 = keras.layers.Dense(unique_speakers * 2, activation='relu',\n",
        "                kernel_regularizer=keras.regularizers.l2(regularazation))(drp1)\n",
        "    drp2 = keras.layers.Dropout(dropout_rate)(dense1)\n",
        "    output = keras.layers.Dense(unique_speakers, activation='softmax', name='speaker')(drp2)\n",
        "    model = keras.Model(inputs=audio_input, outputs=output)\n",
        "    model.compile(loss=keras.losses.sparse_categorical_crossentropy,\n",
        "                  optimizer=keras.optimizers.Adam(),\n",
        "                  metrics=['acc'])\n",
        "    return model"
      ]
    },
    {
      "cell_type": "code",
      "source": [
        "\n",
        "train_model = False\n",
        "model_name = 'spr_model.h5'\n",
        "model_path = os.path.join('.', model_name)\n",
        "model = None\n",
        "if os.path.exists(model_path):\n",
        "    model = keras.models.load_model(model_path)\n",
        "else:\n",
        "    model = create_model(input_shape,unique_speakers)\n",
        "    train_model = True\n",
        "\n",
        "model.summary()\n"
      ],
      "metadata": {
        "execution": {
          "iopub.status.busy": "2023-07-09T19:58:46.189968Z",
          "iopub.execute_input": "2023-07-09T19:58:46.190398Z",
          "iopub.status.idle": "2023-07-09T19:58:46.489768Z",
          "shell.execute_reply.started": "2023-07-09T19:58:46.190356Z",
          "shell.execute_reply": "2023-07-09T19:58:46.488745Z"
        },
        "trusted": true,
        "id": "NEDR2iGpn8Dy",
        "outputId": "fb0ee159-44c7-4aaa-be4e-cb91967f31ee"
      },
      "execution_count": null,
      "outputs": [
        {
          "name": "stdout",
          "text": "Model: \"model\"\n_________________________________________________________________\n Layer (type)                Output Shape              Param #   \n=================================================================\n input_1 (InputLayer)        [(None, 20, 196, 1)]      0         \n                                                                 \n conv2d (Conv2D)             (None, 20, 196, 16)       160       \n                                                                 \n max_pooling2d (MaxPooling2D  (None, 10, 98, 16)       0         \n )                                                               \n                                                                 \n batch_normalization (BatchN  (None, 10, 98, 16)       64        \n ormalization)                                                   \n                                                                 \n conv2d_1 (Conv2D)           (None, 10, 98, 32)        4640      \n                                                                 \n max_pooling2d_1 (MaxPooling  (None, 5, 49, 32)        0         \n 2D)                                                             \n                                                                 \n batch_normalization_1 (Batc  (None, 5, 49, 32)        128       \n hNormalization)                                                 \n                                                                 \n conv2d_2 (Conv2D)           (None, 5, 49, 64)         18496     \n                                                                 \n max_pooling2d_2 (MaxPooling  (None, 2, 24, 64)        0         \n 2D)                                                             \n                                                                 \n batch_normalization_2 (Batc  (None, 2, 24, 64)        256       \n hNormalization)                                                 \n                                                                 \n flatten (Flatten)           (None, 3072)              0         \n                                                                 \n dropout (Dropout)           (None, 3072)              0         \n                                                                 \n dense (Dense)               (None, 662)               2034326   \n                                                                 \n dropout_1 (Dropout)         (None, 662)               0         \n                                                                 \n speaker (Dense)             (None, 331)               219453    \n                                                                 \n=================================================================\nTotal params: 2,277,523\nTrainable params: 2,277,299\nNon-trainable params: 224\n_________________________________________________________________\n",
          "output_type": "stream"
        }
      ]
    },
    {
      "cell_type": "code",
      "source": [
        "\n",
        "# if training, you can view the tensorboard.\n",
        "# type on command line to start tensorboard: tensorboard --logdir=./spr_logs --port=6006\n",
        "# view details: http://localhost:6006\n",
        "if train_model:\n",
        "    root_logdir = os.path.join(os.curdir, \"spr_logs\")\n",
        "    def get_run_dir():\n",
        "        import time\n",
        "        run_id = time.strftime(\"run%Y_%m_%d-%H_%M_%S\")\n",
        "        return os.path.join(root_logdir, run_id)\n",
        "    run_logdir = get_run_dir()\n",
        "    tensorboard_cb = keras.callbacks.TensorBoard(run_logdir, update_freq='batch')\n",
        "    history = model.fit(train_ds, epochs=8, validation_data=val_ds, callbacks=[tensorboard_cb])\n"
      ],
      "metadata": {
        "execution": {
          "iopub.status.busy": "2023-07-09T20:18:09.093148Z",
          "iopub.execute_input": "2023-07-09T20:18:09.094009Z",
          "iopub.status.idle": "2023-07-09T20:27:54.427475Z",
          "shell.execute_reply.started": "2023-07-09T20:18:09.093967Z",
          "shell.execute_reply": "2023-07-09T20:27:54.425683Z"
        },
        "trusted": true,
        "id": "E2c5kMUDn8Dy",
        "outputId": "6038468e-f47c-4715-91b8-733eea988f94"
      },
      "execution_count": null,
      "outputs": [
        {
          "name": "stdout",
          "text": "Epoch 1/8\n741/741 [==============================] - 72s 92ms/step - loss: 4.2048 - acc: 0.2995 - val_loss: 2.1452 - val_acc: 0.6586\nEpoch 2/8\n741/741 [==============================] - 79s 105ms/step - loss: 1.8421 - acc: 0.7417 - val_loss: 1.2811 - val_acc: 0.9037\nEpoch 3/8\n741/741 [==============================] - 69s 91ms/step - loss: 1.4112 - acc: 0.8530 - val_loss: 1.1699 - val_acc: 0.9161\nEpoch 4/8\n741/741 [==============================] - 69s 90ms/step - loss: 1.2573 - acc: 0.8863 - val_loss: 1.0430 - val_acc: 0.9525\nEpoch 5/8\n741/741 [==============================] - 68s 90ms/step - loss: 1.1816 - acc: 0.9023 - val_loss: 0.9895 - val_acc: 0.9640\nEpoch 6/8\n741/741 [==============================] - 73s 97ms/step - loss: 1.1255 - acc: 0.9154 - val_loss: 0.9309 - val_acc: 0.9696\nEpoch 7/8\n741/741 [==============================] - 68s 91ms/step - loss: 1.0977 - acc: 0.9174 - val_loss: 0.9511 - val_acc: 0.9674\nEpoch 8/8\n741/741 [==============================] - 72s 96ms/step - loss: 1.0110 - acc: 0.9324 - val_loss: 0.9365 - val_acc: 0.9511\n",
          "output_type": "stream"
        }
      ]
    },
    {
      "cell_type": "code",
      "source": [
        "model.evaluate(test_ds)"
      ],
      "metadata": {
        "execution": {
          "iopub.status.busy": "2023-07-09T20:27:54.429610Z",
          "iopub.execute_input": "2023-07-09T20:27:54.429981Z",
          "iopub.status.idle": "2023-07-09T20:27:57.634788Z",
          "shell.execute_reply.started": "2023-07-09T20:27:54.429949Z",
          "shell.execute_reply": "2023-07-09T20:27:57.632859Z"
        },
        "trusted": true,
        "id": "MivbcCuzn8Dy",
        "outputId": "e8410faf-3b7f-46eb-efd4-92af74fd5e21"
      },
      "execution_count": null,
      "outputs": [
        {
          "name": "stdout",
          "text": "106/106 [==============================] - 3s 21ms/step - loss: 0.9123 - acc: 0.9557\n",
          "output_type": "stream"
        },
        {
          "execution_count": 54,
          "output_type": "execute_result",
          "data": {
            "text/plain": "[0.9123402237892151, 0.9557130336761475]"
          },
          "metadata": {}
        }
      ]
    },
    {
      "cell_type": "code",
      "source": [
        "# Check out our train accuracy and validation accuracy over epochs.\n",
        "train_accuracy = history.history['acc']\n",
        "val_accuracy = history.history['val_acc']\n",
        "\n",
        "# Set figure size.\n",
        "plt.figure(figsize=(12, 8))\n",
        "\n",
        "# Generate line plot of training, testing loss over epochs.\n",
        "plt.plot(train_accuracy, label='Training Accuracy', color='#185fad')\n",
        "plt.plot(val_accuracy, label='Validation Accuracy', color='orange')\n",
        "\n",
        "# Set title\n",
        "plt.title('Training and Validation Accuracy by Epoch', fontsize = 25)\n",
        "plt.xlabel('Epoch', fontsize = 18)\n",
        "plt.ylabel('Accuracy', fontsize = 18)\n",
        "plt.xticks(range(0,8,1), range(0,8,1))\n",
        "\n",
        "plt.legend(fontsize = 18)"
      ],
      "metadata": {
        "execution": {
          "iopub.status.busy": "2023-07-09T22:40:15.486220Z",
          "iopub.execute_input": "2023-07-09T22:40:15.486729Z",
          "iopub.status.idle": "2023-07-09T22:40:15.894682Z",
          "shell.execute_reply.started": "2023-07-09T22:40:15.486695Z",
          "shell.execute_reply": "2023-07-09T22:40:15.893824Z"
        },
        "trusted": true,
        "id": "2ANe9yF_n8Dz",
        "outputId": "8a10aea1-a4e5-4d75-a8c8-164d649b20b8"
      },
      "execution_count": null,
      "outputs": [
        {
          "execution_count": 237,
          "output_type": "execute_result",
          "data": {
            "text/plain": "<matplotlib.legend.Legend at 0x7c8398e878e0>"
          },
          "metadata": {}
        },
        {
          "output_type": "display_data",
          "data": {
            "text/plain": "<Figure size 1200x800 with 1 Axes>",
            "image/png": "[encoded data removed]"
          },
          "metadata": {}
        }
      ]
    },
    {
      "cell_type": "code",
      "source": [
        "# Check out our train accuracy and validation loss over epochs.\n",
        "train_loss = history.history['loss']\n",
        "val_loss = history.history['val_loss']\n",
        "\n",
        "# Set figure size.\n",
        "plt.figure(figsize=(12, 8))\n",
        "\n",
        "# Generate line plot of training, testing loss over epochs.\n",
        "plt.plot(train_loss, label='Training Loss', color='#185fad')\n",
        "plt.plot(val_loss, label='Validation Loss', color='orange')\n",
        "\n",
        "# Set title\n",
        "plt.title('Training and Validation Loss by Epoch', fontsize = 25)\n",
        "plt.xlabel('Epoch', fontsize = 18)\n",
        "plt.ylabel('Sparse Categorical Crossentropy', fontsize = 18)\n",
        "plt.xticks(range(0,8,1), range(0,8,1))\n",
        "\n",
        "plt.legend(fontsize = 18)"
      ],
      "metadata": {
        "execution": {
          "iopub.status.busy": "2023-07-09T22:41:01.618102Z",
          "iopub.execute_input": "2023-07-09T22:41:01.618556Z",
          "iopub.status.idle": "2023-07-09T22:41:02.010614Z",
          "shell.execute_reply.started": "2023-07-09T22:41:01.618521Z",
          "shell.execute_reply": "2023-07-09T22:41:02.009402Z"
        },
        "trusted": true,
        "id": "yAeQIyEpn8D0",
        "outputId": "bebae151-e4da-4bda-bc4c-d26de7bf54ed"
      },
      "execution_count": null,
      "outputs": [
        {
          "execution_count": 238,
          "output_type": "execute_result",
          "data": {
            "text/plain": "<matplotlib.legend.Legend at 0x7c8398e9b970>"
          },
          "metadata": {}
        },
        {
          "output_type": "display_data",
          "data": {
            "text/plain": "<Figure size 1200x800 with 1 Axes>",
            "image/png": "[encoded data removed]"
          },
          "metadata": {}
        }
      ]
    },
    {
      "cell_type": "code",
      "execution_count": null,
      "metadata": {
        "id": "NjZdL2k-JqYX"
      },
      "outputs": [],
      "source": [
        "if train_model:\n",
        "    model.save(model_name)\n",
        "    # model.save_weights('my_model_weights.h5')"
      ]
    },
    {
      "cell_type": "code",
      "execution_count": null,
      "metadata": {
        "id": "iXU4AeKbJqYX"
      },
      "outputs": [],
      "source": [
        "true_speaker_ids = []\n",
        "pred_speakers_ids = []\n",
        "for audio, speaker in test_ds:\n",
        "    preds = model(audio)\n",
        "    test_ids = speaker.numpy().reshape(-1)\n",
        "    true_speaker_ids.extend(speaker_encoder.inverse_transform(test_ids))\n",
        "    for p in preds:\n",
        "        speaker_ids = np.argmax(p.numpy().reshape(-1,1), axis=0)\n",
        "        pred_speakers_ids.extend(speaker_encoder.inverse_transform(speaker_ids))"
      ]
    },
    {
      "cell_type": "code",
      "source": [
        "true_pred_on_test=pd.DataFrame({'true_ids':true_speaker_ids,'pred_ids':pred_speakers_ids})\n",
        "print('Checking how many files model got wrong speaker_id:')\n",
        "wrong_ids = true_pred_on_test[true_pred_on_test['true_ids'] != true_pred_on_test['pred_ids']]\n",
        "wrong_ids"
      ],
      "metadata": {
        "execution": {
          "iopub.status.busy": "2023-07-09T22:44:01.002104Z",
          "iopub.execute_input": "2023-07-09T22:44:01.003324Z",
          "iopub.status.idle": "2023-07-09T22:44:01.019179Z",
          "shell.execute_reply.started": "2023-07-09T22:44:01.003275Z",
          "shell.execute_reply": "2023-07-09T22:44:01.018384Z"
        },
        "trusted": true,
        "id": "psSOlcUmn8D2",
        "outputId": "c07d32c2-e925-43e2-d7a4-6feefa5a5afa"
      },
      "execution_count": null,
      "outputs": [
        {
          "name": "stdout",
          "text": "Checking how many files model got wrong speaker_id:\n",
          "output_type": "stream"
        },
        {
          "execution_count": 243,
          "output_type": "execute_result",
          "data": {
            "text/plain": "     true_ids pred_ids\n5        1926     1553\n26       3830     4640\n31       6531     1970\n75       6385     8324\n160      1578     3879\n...       ...      ...\n3344     6209     5678\n3361     6385      260\n3377     4481     5456\n3379      405     1334\n3385     8063     6295\n\n[158 rows x 2 columns]",
            "text/html": "<div>\n<style scoped>\n    .dataframe tbody tr th:only-of-type {\n        vertical-align: middle;\n    }\n\n    .dataframe tbody tr th {\n        vertical-align: top;\n    }\n\n    .dataframe thead th {\n        text-align: right;\n    }\n</style>\n<table border=\"1\" class=\"dataframe\">\n  <thead>\n    <tr style=\"text-align: right;\">\n      <th></th>\n      <th>true_ids</th>\n      <th>pred_ids</th>\n    </tr>\n  </thead>\n  <tbody>\n    <tr>\n      <th>5</th>\n      <td>1926</td>\n      <td>1553</td>\n    </tr>\n    <tr>\n      <th>26</th>\n      <td>3830</td>\n      <td>4640</td>\n    </tr>\n    <tr>\n      <th>31</th>\n      <td>6531</td>\n      <td>1970</td>\n    </tr>\n    <tr>\n      <th>75</th>\n      <td>6385</td>\n      <td>8324</td>\n    </tr>\n    <tr>\n      <th>160</th>\n      <td>1578</td>\n      <td>3879</td>\n    </tr>\n    <tr>\n      <th>...</th>\n      <td>...</td>\n      <td>...</td>\n    </tr>\n    <tr>\n      <th>3344</th>\n      <td>6209</td>\n      <td>5678</td>\n    </tr>\n    <tr>\n      <th>3361</th>\n      <td>6385</td>\n      <td>260</td>\n    </tr>\n    <tr>\n      <th>3377</th>\n      <td>4481</td>\n      <td>5456</td>\n    </tr>\n    <tr>\n      <th>3379</th>\n      <td>405</td>\n      <td>1334</td>\n    </tr>\n    <tr>\n      <th>3385</th>\n      <td>8063</td>\n      <td>6295</td>\n    </tr>\n  </tbody>\n</table>\n<p>158 rows × 2 columns</p>\n</div>"
          },
          "metadata": {}
        }
      ]
    },
    {
      "cell_type": "code",
      "source": [
        "print('There are {} files model got wrong speaker_id.'.format(wrong_ids.shape[0]))"
      ],
      "metadata": {
        "execution": {
          "iopub.status.busy": "2023-07-09T22:44:06.517703Z",
          "iopub.execute_input": "2023-07-09T22:44:06.518675Z",
          "iopub.status.idle": "2023-07-09T22:44:06.524530Z",
          "shell.execute_reply.started": "2023-07-09T22:44:06.518634Z",
          "shell.execute_reply": "2023-07-09T22:44:06.523346Z"
        },
        "trusted": true,
        "id": "pVFl1udvn8D3",
        "outputId": "29a60b24-5ecf-4629-8a80-ea534abd49d0"
      },
      "execution_count": null,
      "outputs": [
        {
          "name": "stdout",
          "text": "There are 158 files model got wrong speaker_id.\n",
          "output_type": "stream"
        }
      ]
    },
    {
      "cell_type": "markdown",
      "metadata": {
        "id": "ILnXUyfNJqYY"
      },
      "source": [
        "# Transfer Learning"
      ]
    },
    {
      "cell_type": "markdown",
      "source": [
        "**When use sign up, loading 10 new audio files, which server send, to training.**"
      ],
      "metadata": {
        "id": "FKlNFKuqWuUi"
      }
    },
    {
      "cell_type": "code",
      "execution_count": 12,
      "metadata": {
        "id": "2xvEobpwJqYd"
      },
      "outputs": [],
      "source": [
        "DIR_NEW_DATA = '/content/drive/MyDrive/dataset/my-voice/nghiahieu@gm.com'"
      ]
    },
    {
      "cell_type": "code",
      "execution_count": 13,
      "metadata": {
        "id": "diN0a00hJqYd"
      },
      "outputs": [],
      "source": [
        "new_list_paths=[]\n",
        "for r, d, f in os.walk(DIR_NEW_DATA):\n",
        "    for file in f:\n",
        "        if '.wav' in file:\n",
        "            new_list_paths.append(os.path.join(r, file))"
      ]
    },
    {
      "cell_type": "code",
      "execution_count": 14,
      "metadata": {
        "id": "ZPbZ4NWuJqYe",
        "colab": {
          "base_uri": "https://localhost:8080/"
        },
        "outputId": "444795ed-cf5e-4b22-cc90-18fe361ff036"
      },
      "outputs": [
        {
          "output_type": "execute_result",
          "data": {
            "text/plain": [
              "['/content/drive/MyDrive/dataset/my-voice/nghiahieu@gm.com/nghiahieu@gm.com-0.wav',\n",
              " '/content/drive/MyDrive/dataset/my-voice/nghiahieu@gm.com/nghiahieu@gm.com-1.wav',\n",
              " '/content/drive/MyDrive/dataset/my-voice/nghiahieu@gm.com/nghiahieu@gm.com-2.wav',\n",
              " '/content/drive/MyDrive/dataset/my-voice/nghiahieu@gm.com/nghiahieu@gm.com-3.wav',\n",
              " '/content/drive/MyDrive/dataset/my-voice/nghiahieu@gm.com/nghiahieu@gm.com-4.wav',\n",
              " '/content/drive/MyDrive/dataset/my-voice/nghiahieu@gm.com/nghiahieu@gm.com-5.wav',\n",
              " '/content/drive/MyDrive/dataset/my-voice/nghiahieu@gm.com/nghiahieu@gm.com-6.wav',\n",
              " '/content/drive/MyDrive/dataset/my-voice/nghiahieu@gm.com/nghiahieu@gm.com-7.wav',\n",
              " '/content/drive/MyDrive/dataset/my-voice/nghiahieu@gm.com/nghiahieu@gm.com-8.wav',\n",
              " '/content/drive/MyDrive/dataset/my-voice/nghiahieu@gm.com/nghiahieu@gm.com-9.wav',\n",
              " '/content/drive/MyDrive/dataset/my-voice/nghiahieu@gm.com/nghiahieu@gm.com-11.wav']"
            ]
          },
          "metadata": {},
          "execution_count": 14
        }
      ],
      "source": [
        "new_list_paths"
      ]
    },
    {
      "cell_type": "code",
      "execution_count": 8,
      "metadata": {
        "id": "mCf-C0ZuJqYe",
        "colab": {
          "base_uri": "https://localhost:8080/",
          "height": 36
        },
        "outputId": "068e4e94-45b7-414c-9353-be6b309a83cc"
      },
      "outputs": [
        {
          "output_type": "execute_result",
          "data": {
            "text/plain": [
              "'/content/drive/MyDrive/dataset/my-voice/nghiahieu@gm.com/nghiahieu@gm.com-11.wav'"
            ],
            "application/vnd.google.colaboratory.intrinsic+json": {
              "type": "string"
            }
          },
          "metadata": {},
          "execution_count": 8
        }
      ],
      "source": [
        "sample_test='/content/drive/MyDrive/dataset/my-voice/nghiahieu@gm.com/nghiahieu@gm.com-11.wav'\n",
        "new_list_paths.pop(new_list_paths.index(sample_test))"
      ]
    },
    {
      "cell_type": "code",
      "execution_count": null,
      "metadata": {
        "id": "7dfxv4jkJqYf"
      },
      "outputs": [],
      "source": [
        "new_list_ds, new_speaker_ds = load_data(new_list_paths)\n",
        "new_encoded_speaker_ds, new_speaker_encoder, new_unique_speakers = encoding_speaker(new_speaker_ds)"
      ]
    },
    {
      "cell_type": "code",
      "execution_count": null,
      "metadata": {
        "id": "fszmNHQUJqYf"
      },
      "outputs": [],
      "source": [
        "# Audio (input) tensor is 3D tensor.\n",
        "# 20x196 is MFCC encoding. Converting it to 3D for use in CNN layers.\n",
        "# %time\n",
        "new_audio_ds = create_audio_ds(new_list_ds)\n",
        "# for a in audio_ds.take(1):\n",
        "#     print(a.numpy().shape)"
      ]
    },
    {
      "cell_type": "markdown",
      "source": [
        "**Loading 50 old audio files, which saving before, use them like as different user label with new user.**"
      ],
      "metadata": {
        "id": "lrXABvJ2Xb8n"
      }
    },
    {
      "cell_type": "code",
      "execution_count": null,
      "metadata": {
        "id": "Y0Hnd8yBJqYf"
      },
      "outputs": [],
      "source": [
        "old_audio = tf.data.experimental.load('/content/drive/MyDrive/dataset/audio_ds')"
      ]
    },
    {
      "cell_type": "markdown",
      "source": [
        "Labeling that data with value 0."
      ],
      "metadata": {
        "id": "lj1G5SgBYLbJ"
      }
    },
    {
      "cell_type": "code",
      "execution_count": null,
      "metadata": {
        "id": "WkaZkwJ-JqYg"
      },
      "outputs": [],
      "source": [
        "old_complete_labeled_0 = tf.data.Dataset.zip((old_audio.shuffle(len(old_audio)).take(len(new_list_ds)*5),\n",
        "                                              tf.data.Dataset.from_tensor_slices(np.repeat(0, len(new_list_ds)*5))))"
      ]
    },
    {
      "cell_type": "code",
      "execution_count": null,
      "metadata": {
        "id": "OACkgxgsJqYg"
      },
      "outputs": [],
      "source": [
        "new_complete_labeled_ds = tf.data.Dataset.zip((new_audio_ds,\n",
        "                                                tf.data.Dataset.from_tensor_slices(np.repeat(1,len(new_list_ds)))))"
      ]
    },
    {
      "cell_type": "markdown",
      "source": [
        "**Combine 2 dataset**"
      ],
      "metadata": {
        "id": "0WvS5MZ0YbP7"
      }
    },
    {
      "cell_type": "code",
      "execution_count": null,
      "metadata": {
        "id": "1HNzjG_uJqZS"
      },
      "outputs": [],
      "source": [
        "# Finally, zip the input and labels to a single dataset.\n",
        "# new_complete_labeled_ds = tf.data.Dataset.zip((new_audio_ds, new_encoded_speaker_ds))\n",
        "new_complete_labeled_ds = new_complete_labeled_ds.concatenate(old_complete_labeled_0)"
      ]
    },
    {
      "cell_type": "code",
      "source": [
        "BATCH_SIZE = 32\n",
        "new_train_ds, new_val_ds, new_test_ds = train_dev_test_split(new_complete_labeled_ds, BATCH_SIZE)\n",
        "\n",
        "new_input_shape = None\n",
        "for audio, speaker in new_complete_labeled_ds.take(1):\n",
        "    input_shape = audio.shape\n",
        "    print('input_shape', audio.shape)\n",
        "    print('output_shape', speaker.shape)\n",
        "\n",
        "\n",
        "# labeled_ds = new_complete_labeled_ds\n",
        "# data_size = sum([1 for _ in labeled_ds])\n",
        "# train_size = int(data_size * 0.7)\n",
        "# val_size = data_size - train_size\n",
        "# labeled_ds = labeled_ds.shuffle(data_size, seed=42)\n",
        "# new_train_ds = labeled_ds.take(train_size).shuffle(1000).batch(BATCH_SIZE).prefetch(1)\n",
        "# new_val_ds = labeled_ds.skip(train_size).take(val_size).batch(BATCH_SIZE).prefetch(1)"
      ],
      "metadata": {
        "execution": {
          "iopub.status.busy": "2023-07-10T04:51:18.391050Z",
          "iopub.execute_input": "2023-07-10T04:51:18.391477Z",
          "iopub.status.idle": "2023-07-10T04:51:19.183245Z",
          "shell.execute_reply.started": "2023-07-10T04:51:18.391444Z",
          "shell.execute_reply": "2023-07-10T04:51:19.181423Z"
        },
        "trusted": true,
        "id": "s5ve_WCpn8EK",
        "outputId": "60d97c28-71cc-4526-afc2-70ef706dee7a"
      },
      "execution_count": null,
      "outputs": [
        {
          "name": "stdout",
          "text": "all samples: 60\ntraining samples: 42\nvalidation samples: 12\ntest samples: 6\ninput_shape (20, 196, 1)\noutput_shape ()\n",
          "output_type": "stream"
        }
      ]
    },
    {
      "cell_type": "markdown",
      "source": [
        "**Create neư model corresponding to each users from old model.**"
      ],
      "metadata": {
        "id": "W-yetXGrYwWX"
      }
    },
    {
      "cell_type": "code",
      "source": [
        "model_path = '/kaggle/working/spr_model.h5'\n",
        "old_model = keras.models.load_model(model_path)\n",
        "# old_weights = old_model.load_weights('/kaggle/working/my_model_weights.h5')\n",
        "# old_model = keras.Model(old_model.input, old_model.layers[-6].output)"
      ],
      "metadata": {
        "execution": {
          "iopub.status.busy": "2023-07-10T04:44:55.888391Z",
          "iopub.execute_input": "2023-07-10T04:44:55.889650Z",
          "iopub.status.idle": "2023-07-10T04:44:56.569200Z",
          "shell.execute_reply.started": "2023-07-10T04:44:55.889609Z",
          "shell.execute_reply": "2023-07-10T04:44:56.567928Z"
        },
        "trusted": true,
        "id": "CXkyMkNpn8EL"
      },
      "execution_count": null,
      "outputs": []
    },
    {
      "cell_type": "code",
      "source": [
        "def layer_added(output_based_network, unique_speakers):\n",
        "    dropout_rate = .25\n",
        "    regularazation = 0.001\n",
        "    x = output_based_network\n",
        "    x = keras.layers.Flatten()(x)\n",
        "    x = keras.layers.Dropout(dropout_rate)(x)\n",
        "    x = keras.layers.Dense(unique_speakers * 2, activation='relu',\n",
        "                  kernel_regularizer=keras.regularizers.l2(regularazation))(x)\n",
        "    x = keras.layers.Dropout(dropout_rate)(x)\n",
        "    x = keras.layers.Dense(unique_speakers, activation='sigmoid', name='speaker')(x)\n",
        "    return x\n",
        "\n",
        "output_based_network = old_model.layers[-6].output\n",
        "output_layer = layer_added(output_based_network, new_unique_speakers)\n",
        "new_model = keras.Model(old_model.input, output_layer)\n",
        "new_model.layers[-6].set_weights(old_model.layers[-6].get_weights())\n",
        "new_model.summary()"
      ],
      "metadata": {
        "execution": {
          "iopub.status.busy": "2023-07-10T04:44:58.031437Z",
          "iopub.execute_input": "2023-07-10T04:44:58.031897Z",
          "iopub.status.idle": "2023-07-10T04:44:58.129780Z",
          "shell.execute_reply.started": "2023-07-10T04:44:58.031858Z",
          "shell.execute_reply": "2023-07-10T04:44:58.128472Z"
        },
        "trusted": true,
        "id": "o3RmTxDtn8EM",
        "outputId": "b67178cc-c368-4e2d-a3e4-2736a5c3cf6a"
      },
      "execution_count": null,
      "outputs": [
        {
          "name": "stdout",
          "text": "Model: \"model_33\"\n_________________________________________________________________\n Layer (type)                Output Shape              Param #   \n=================================================================\n input_1 (InputLayer)        [(None, 20, 196, 1)]      0         \n                                                                 \n conv2d (Conv2D)             (None, 20, 196, 16)       160       \n                                                                 \n max_pooling2d (MaxPooling2D  (None, 10, 98, 16)       0         \n )                                                               \n                                                                 \n batch_normalization (BatchN  (None, 10, 98, 16)       64        \n ormalization)                                                   \n                                                                 \n conv2d_1 (Conv2D)           (None, 10, 98, 32)        4640      \n                                                                 \n max_pooling2d_1 (MaxPooling  (None, 5, 49, 32)        0         \n 2D)                                                             \n                                                                 \n batch_normalization_1 (Batc  (None, 5, 49, 32)        128       \n hNormalization)                                                 \n                                                                 \n conv2d_2 (Conv2D)           (None, 5, 49, 64)         18496     \n                                                                 \n max_pooling2d_2 (MaxPooling  (None, 2, 24, 64)        0         \n 2D)                                                             \n                                                                 \n batch_normalization_2 (Batc  (None, 2, 24, 64)        256       \n hNormalization)                                                 \n                                                                 \n flatten_16 (Flatten)        (None, 3072)              0         \n                                                                 \n dropout_53 (Dropout)        (None, 3072)              0         \n                                                                 \n dense_20 (Dense)            (None, 2)                 6146      \n                                                                 \n dropout_54 (Dropout)        (None, 2)                 0         \n                                                                 \n speaker (Dense)             (None, 1)                 3         \n                                                                 \n=================================================================\nTotal params: 29,893\nTrainable params: 29,669\nNon-trainable params: 224\n_________________________________________________________________\n",
          "output_type": "stream"
        }
      ]
    },
    {
      "cell_type": "code",
      "source": [
        "new_model.compile(loss='binary_crossentropy',\n",
        "                  optimizer=keras.optimizers.Adam(),\n",
        "                  metrics=['binary_accuracy'])"
      ],
      "metadata": {
        "execution": {
          "iopub.status.busy": "2023-07-10T04:45:03.692226Z",
          "iopub.execute_input": "2023-07-10T04:45:03.693075Z",
          "iopub.status.idle": "2023-07-10T04:45:03.707559Z",
          "shell.execute_reply.started": "2023-07-10T04:45:03.693031Z",
          "shell.execute_reply": "2023-07-10T04:45:03.706461Z"
        },
        "trusted": true,
        "id": "YOy3eFuhn8EN"
      },
      "execution_count": null,
      "outputs": []
    },
    {
      "cell_type": "code",
      "source": [
        "# Freeze the first layers, before train it\n",
        "for layer in new_model.layers[:-5]:\n",
        "    layer.trainable = False"
      ],
      "metadata": {
        "execution": {
          "iopub.status.busy": "2023-07-10T04:45:07.531345Z",
          "iopub.execute_input": "2023-07-10T04:45:07.531772Z",
          "iopub.status.idle": "2023-07-10T04:45:07.537498Z",
          "shell.execute_reply.started": "2023-07-10T04:45:07.531737Z",
          "shell.execute_reply": "2023-07-10T04:45:07.536070Z"
        },
        "trusted": true,
        "id": "JqIsqK1rn8EN"
      },
      "execution_count": null,
      "outputs": []
    },
    {
      "cell_type": "code",
      "source": [
        "for layer_number, layer in enumerate(new_model.layers):\n",
        "    print(layer_number, layer.name, layer.trainable)"
      ],
      "metadata": {
        "execution": {
          "iopub.status.busy": "2023-07-10T04:45:09.571929Z",
          "iopub.execute_input": "2023-07-10T04:45:09.572339Z",
          "iopub.status.idle": "2023-07-10T04:45:09.578163Z",
          "shell.execute_reply.started": "2023-07-10T04:45:09.572308Z",
          "shell.execute_reply": "2023-07-10T04:45:09.577354Z"
        },
        "trusted": true,
        "id": "Yf1-6-hun8EO",
        "outputId": "8ccdc4c8-9931-4c96-c906-c3220e72ee6c"
      },
      "execution_count": null,
      "outputs": [
        {
          "name": "stdout",
          "text": "0 input_1 False\n1 conv2d False\n2 max_pooling2d False\n3 batch_normalization False\n4 conv2d_1 False\n5 max_pooling2d_1 False\n6 batch_normalization_1 False\n7 conv2d_2 False\n8 max_pooling2d_2 False\n9 batch_normalization_2 False\n10 flatten_16 True\n11 dropout_53 True\n12 dense_20 True\n13 dropout_54 True\n14 speaker True\n",
          "output_type": "stream"
        }
      ]
    },
    {
      "cell_type": "code",
      "source": [
        "if train_model:\n",
        "    root_logdir = os.path.join(os.curdir, \"spr_logs\")\n",
        "    def get_run_dir():\n",
        "        import time\n",
        "        run_id = time.strftime(\"run%Y_%m_%d-%H_%M_%S\")\n",
        "        return os.path.join(root_logdir, run_id)\n",
        "    run_logdir = get_run_dir()\n",
        "    tensorboard_cb = keras.callbacks.TensorBoard(run_logdir, update_freq='batch')\n",
        "    new_history = new_model.fit(new_train_ds, epochs=8, validation_data=new_val_ds, callbacks=[tensorboard_cb])"
      ],
      "metadata": {
        "execution": {
          "iopub.status.busy": "2023-07-10T04:51:25.603969Z",
          "iopub.execute_input": "2023-07-10T04:51:25.605000Z",
          "iopub.status.idle": "2023-07-10T04:51:46.036635Z",
          "shell.execute_reply.started": "2023-07-10T04:51:25.604961Z",
          "shell.execute_reply": "2023-07-10T04:51:46.035329Z"
        },
        "trusted": true,
        "id": "b_W8EOJdn8EP",
        "outputId": "9eb2a496-d739-4d73-8dd0-95824e0f361e"
      },
      "execution_count": null,
      "outputs": [
        {
          "name": "stdout",
          "text": "Epoch 1/8\n2/2 [==============================] - 3s 1s/step - loss: 0.5666 - binary_accuracy: 0.9762 - val_loss: 0.5591 - val_binary_accuracy: 1.0000\nEpoch 2/8\n2/2 [==============================] - 2s 829ms/step - loss: 0.5941 - binary_accuracy: 0.9762 - val_loss: 0.6689 - val_binary_accuracy: 1.0000\nEpoch 3/8\n2/2 [==============================] - 2s 1s/step - loss: 0.5860 - binary_accuracy: 0.9762 - val_loss: 0.5023 - val_binary_accuracy: 1.0000\nEpoch 4/8\n2/2 [==============================] - 2s 1s/step - loss: 0.5737 - binary_accuracy: 1.0000 - val_loss: 0.5567 - val_binary_accuracy: 1.0000\nEpoch 5/8\n2/2 [==============================] - 2s 786ms/step - loss: 0.5452 - binary_accuracy: 0.9762 - val_loss: 0.5058 - val_binary_accuracy: 0.9167\nEpoch 6/8\n2/2 [==============================] - 2s 1s/step - loss: 0.5733 - binary_accuracy: 0.9762 - val_loss: 0.5005 - val_binary_accuracy: 1.0000\nEpoch 7/8\n2/2 [==============================] - 2s 1s/step - loss: 0.5590 - binary_accuracy: 1.0000 - val_loss: 0.4997 - val_binary_accuracy: 1.0000\nEpoch 8/8\n2/2 [==============================] - 2s 735ms/step - loss: 0.5569 - binary_accuracy: 0.9762 - val_loss: 0.5538 - val_binary_accuracy: 1.0000\n",
          "output_type": "stream"
        }
      ]
    },
    {
      "cell_type": "markdown",
      "source": [
        "# Testing with the sample test and see the result"
      ],
      "metadata": {
        "id": "aXFeQnFeZuhL"
      }
    },
    {
      "cell_type": "code",
      "source": [
        "sample_file = [sample_test]\n",
        "sample_ds = tf.data.Dataset.from_tensor_slices(sample_file)\n",
        "sample_input = create_audio_ds(sample_ds).batch(1)\n",
        "output = new_model.predict(sample_input)\n"
      ],
      "metadata": {
        "execution": {
          "iopub.status.busy": "2023-07-10T04:51:50.946075Z",
          "iopub.execute_input": "2023-07-10T04:51:50.947014Z",
          "iopub.status.idle": "2023-07-10T04:51:51.242599Z",
          "shell.execute_reply.started": "2023-07-10T04:51:50.946964Z",
          "shell.execute_reply": "2023-07-10T04:51:51.241201Z"
        },
        "trusted": true,
        "id": "ty89JCO7n8EQ",
        "outputId": "c97572b9-0cce-4213-c6fa-3100c19050c7"
      },
      "execution_count": null,
      "outputs": [
        {
          "name": "stdout",
          "text": "5/5 [==============================] - 0s 6ms/step\n",
          "output_type": "stream"
        }
      ]
    },
    {
      "cell_type": "code",
      "source": [
        "output"
      ],
      "metadata": {
        "execution": {
          "iopub.status.busy": "2023-07-10T04:51:53.177189Z",
          "iopub.execute_input": "2023-07-10T04:51:53.177656Z",
          "iopub.status.idle": "2023-07-10T04:51:53.186735Z",
          "shell.execute_reply.started": "2023-07-10T04:51:53.177617Z",
          "shell.execute_reply": "2023-07-10T04:51:53.185113Z"
        },
        "trusted": true,
        "id": "My0bNdQGn8ER",
        "outputId": "30010546-31dd-490f-f1c2-98690c6db2e8"
      },
      "execution_count": null,
      "outputs": [
        {
          "execution_count": 826,
          "output_type": "execute_result",
          "data": {
            "text/plain": "array([[0.99903613],\n       [0.99970734],\n       [0.48221797],\n       [0.48221797],\n       [0.48221797]], dtype=float32)"
          },
          "metadata": {}
        }
      ]
    },
    {
      "cell_type": "code",
      "source": [
        "new_model.save('trans_l.h5')\n",
        "new_model.save_weights('trans_l_weights.h5')"
      ],
      "metadata": {
        "execution": {
          "iopub.status.busy": "2023-07-10T04:06:15.679008Z",
          "iopub.execute_input": "2023-07-10T04:06:15.680127Z",
          "iopub.status.idle": "2023-07-10T04:06:15.757835Z",
          "shell.execute_reply.started": "2023-07-10T04:06:15.680082Z",
          "shell.execute_reply": "2023-07-10T04:06:15.756586Z"
        },
        "trusted": true,
        "id": "88wKCHNSn8ES"
      },
      "execution_count": null,
      "outputs": []
    }
  ],
  "metadata": {
    "colab": {
      "collapsed_sections": [
        "pcWMBK3vXlp4",
        "SDXJdSnC86Qe"
      ],
      "provenance": []
    },
    "kernelspec": {
      "display_name": "Python 3",
      "name": "python3"
    },
    "language_info": {
      "name": "python"
    }
  },
  "nbformat": 4,
  "nbformat_minor": 0
}